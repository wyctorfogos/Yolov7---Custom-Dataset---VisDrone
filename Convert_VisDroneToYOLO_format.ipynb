{
 "cells": [
  {
   "cell_type": "code",
   "execution_count": 26,
   "id": "15a25a69",
   "metadata": {},
   "outputs": [
    {
     "name": "stdout",
     "output_type": "stream",
     "text": [
      "===\n",
      "VisDrone2019-DET-test-dev\n",
      "===\n"
     ]
    }
   ],
   "source": [
    "import os\n",
    "import PIL\n",
    "from PIL import Image\n",
    "\n",
    "#folders=['VisDrone2019-DET-train','VisDrone2019-DET-val','VisDrone2019-DET-test-dev']\n",
    "folders=['VisDrone2019-DET-test-dev']\n",
    "dir='/home/wytcor/Desktop/STAGE/YOLOv5_Custom_Training/datasets/VisDrone2019-DET/original_datasets'\n",
    "\n",
    "def convert_box(size, box):\n",
    "    # Convert VisDrone box to YOLO xywh box\n",
    "    dw = 1. / size[0]\n",
    "    dh = 1. / size[1]\n",
    "    return (box[0] + box[2] / 2) * dw, (box[1] + box[3] / 2) * dh, box[2] * dw, box[3] * dh\n",
    "\n",
    "\n",
    "\n",
    "for folder in folders:\n",
    "    print(\"===\")\n",
    "    print('{}'.format(folder))\n",
    "    print(\"===\")\n",
    "    for annotation in os.listdir(dir+'/'+'{}/annotations'.format(folder)):\n",
    "        #print(annotation)\n",
    "        text=str(annotation).split('.txt')\n",
    "        #print(text[0])\n",
    "        img_size=PIL.Image.open((dir+'/{}/images/'.format(folder)+text[0]+'.jpg')).size\n",
    "        #print(img_size[0])\n",
    "        #Image.open((dir / 'images' / f.name).with_suffix('.jpg')).size\n",
    "        lines = []\n",
    "        with open(dir+'/'+'{}/annotations'.format(folder)+'/'+annotation, 'r') as file:  # read annotation.txt\n",
    "            for row in [x.split(',') for x in file.read().strip().splitlines()]:\n",
    "                if row[4] == '0':  # VisDrone 'ignored regions' class 0\n",
    "                    continue\n",
    "                cls = int(row[5]) - 1\n",
    "                box = convert_box(img_size, tuple(map(int, row[:4])))\n",
    "                lines.append(f\"{cls} {' '.join(f'{x:.6f}' for x in box)}\\n\")\n",
    "                with open(dir+'/'+'{}/labels'.format(folder)+'/'+annotation, 'w') as fl:\n",
    "                    #print(lines)\n",
    "                    fl.writelines(lines)  # write label.txt\n",
    "print(\"Finished!\")\n",
    "        "
   ]
  },
  {
   "cell_type": "code",
   "execution_count": null,
   "id": "7340ad2e",
   "metadata": {},
   "outputs": [],
   "source": []
  }
 ],
 "metadata": {
  "kernelspec": {
   "display_name": "Python 3 (ipykernel)",
   "language": "python",
   "name": "python3"
  },
  "language_info": {
   "codemirror_mode": {
    "name": "ipython",
    "version": 3
   },
   "file_extension": ".py",
   "mimetype": "text/x-python",
   "name": "python",
   "nbconvert_exporter": "python",
   "pygments_lexer": "ipython3",
   "version": "3.8.13"
  }
 },
 "nbformat": 4,
 "nbformat_minor": 5
}
